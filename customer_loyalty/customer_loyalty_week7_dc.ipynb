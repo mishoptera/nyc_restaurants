{
 "cells": [
  {
   "cell_type": "markdown",
   "metadata": {},
   "source": [
    "# Wholesale Customer Loyalty Data Challenge"
   ]
  },
  {
   "cell_type": "markdown",
   "metadata": {},
   "source": [
    "# Summary"
   ]
  },
  {
   "cell_type": "markdown",
   "metadata": {},
   "source": [
    "### Problem Statement"
   ]
  },
  {
   "cell_type": "markdown",
   "metadata": {},
   "source": [
    "You work at a small food service supply wholesaler that principally services the\n",
    "hotel restaurant and retail channels. Currently, your company is working on designing a\n",
    "customer loyalty program but your CEO is unsure of the best way to proceed - the\n",
    "current thinking is a loyalty program that incentivizes customers to purchase across\n",
    "multiple offering categories (e.g., if a customer purchases from the grocery, frozen, and\n",
    "deli categories, they receive a discount).\n",
    "\n",
    "Your CEO would like you to **examine annual spending by the company’s current\n",
    "customers to understand if such a program would be attractive to the largest subgroup\n",
    "of customers.**\n",
    "\n",
    "Available Data:\n",
    "- CUST_ID: Customer ID\n",
    "- YEAR: Year\n",
    "- FRESH: annual spending on fresh products\n",
    "- DAIRY: annual spending on dairy products\n",
    "- GROCERY: annual spending on grocery products\n",
    "- FROZEN: annual spending on frozen products\n",
    "- DETERGENTS_PAPER: annual spending on detergents and paper products\n",
    "- DELI: annual spending on delicatessen products\n",
    "- CHANNEL: HoReCa (hotel/restaurant) or Retail"
   ]
  },
  {
   "cell_type": "markdown",
   "metadata": {},
   "source": [
    "### Outline of Analysis Steps"
   ]
  },
  {
   "cell_type": "markdown",
   "metadata": {},
   "source": [
    "Initial Ideas\n",
    "- original basic stats\n",
    "- clean data (quantify and remove missing data; quantify and remove duplicates, fix datatypes)\n",
    "- look for correlations between categories\n",
    "- plot kmeans clusters."
   ]
  },
  {
   "cell_type": "markdown",
   "metadata": {},
   "source": [
    "Additional steps taken with new information:\n",
    "- sdf"
   ]
  },
  {
   "cell_type": "markdown",
   "metadata": {},
   "source": [
    "# Data Prep"
   ]
  },
  {
   "cell_type": "markdown",
   "metadata": {},
   "source": [
    "### Load libraries, data, and get first glimpse"
   ]
  },
  {
   "cell_type": "code",
   "execution_count": 3,
   "metadata": {},
   "outputs": [],
   "source": [
    "import numpy as np\n",
    "import pandas as pd\n",
    "import seaborn as sns\n",
    "import matplotlib.pyplot as plt\n",
    "from scipy import stats"
   ]
  },
  {
   "cell_type": "code",
   "execution_count": 8,
   "metadata": {},
   "outputs": [
    {
     "data": {
      "text/html": [
       "<div>\n",
       "<style scoped>\n",
       "    .dataframe tbody tr th:only-of-type {\n",
       "        vertical-align: middle;\n",
       "    }\n",
       "\n",
       "    .dataframe tbody tr th {\n",
       "        vertical-align: top;\n",
       "    }\n",
       "\n",
       "    .dataframe thead th {\n",
       "        text-align: right;\n",
       "    }\n",
       "</style>\n",
       "<table border=\"1\" class=\"dataframe\">\n",
       "  <thead>\n",
       "    <tr style=\"text-align: right;\">\n",
       "      <th></th>\n",
       "      <th>Channel</th>\n",
       "      <th>Customer</th>\n",
       "      <th>Year</th>\n",
       "      <th>Fresh</th>\n",
       "      <th>Milk</th>\n",
       "      <th>Grocery</th>\n",
       "      <th>Frozen</th>\n",
       "      <th>Detergents_Paper</th>\n",
       "      <th>Delicassen</th>\n",
       "    </tr>\n",
       "  </thead>\n",
       "  <tbody>\n",
       "    <tr>\n",
       "      <th>0</th>\n",
       "      <td>2</td>\n",
       "      <td>6048141</td>\n",
       "      <td>2017</td>\n",
       "      <td>12669</td>\n",
       "      <td>9656</td>\n",
       "      <td>7561</td>\n",
       "      <td>214</td>\n",
       "      <td>2674</td>\n",
       "      <td>1338</td>\n",
       "    </tr>\n",
       "    <tr>\n",
       "      <th>1</th>\n",
       "      <td>2</td>\n",
       "      <td>9336325</td>\n",
       "      <td>2017</td>\n",
       "      <td>7057</td>\n",
       "      <td>9810</td>\n",
       "      <td>9568</td>\n",
       "      <td>1762</td>\n",
       "      <td>3293</td>\n",
       "      <td>1776</td>\n",
       "    </tr>\n",
       "    <tr>\n",
       "      <th>2</th>\n",
       "      <td>2</td>\n",
       "      <td>6272942</td>\n",
       "      <td>2017</td>\n",
       "      <td>6353</td>\n",
       "      <td>8808</td>\n",
       "      <td>7684</td>\n",
       "      <td>2405</td>\n",
       "      <td>3516</td>\n",
       "      <td>7844</td>\n",
       "    </tr>\n",
       "    <tr>\n",
       "      <th>3</th>\n",
       "      <td>1</td>\n",
       "      <td>7856217</td>\n",
       "      <td>2017</td>\n",
       "      <td>13265</td>\n",
       "      <td>1196</td>\n",
       "      <td>4221</td>\n",
       "      <td>6404</td>\n",
       "      <td>507</td>\n",
       "      <td>1788</td>\n",
       "    </tr>\n",
       "    <tr>\n",
       "      <th>4</th>\n",
       "      <td>2</td>\n",
       "      <td>6179511</td>\n",
       "      <td>2017</td>\n",
       "      <td>22615</td>\n",
       "      <td>5410</td>\n",
       "      <td>7198</td>\n",
       "      <td>3915</td>\n",
       "      <td>1777</td>\n",
       "      <td>5185</td>\n",
       "    </tr>\n",
       "  </tbody>\n",
       "</table>\n",
       "</div>"
      ],
      "text/plain": [
       "   Channel  Customer  Year  Fresh  Milk Grocery Frozen Detergents_Paper  \\\n",
       "0        2   6048141  2017  12669  9656    7561    214             2674   \n",
       "1        2   9336325  2017   7057  9810    9568   1762             3293   \n",
       "2        2   6272942  2017   6353  8808    7684   2405             3516   \n",
       "3        1   7856217  2017  13265  1196    4221   6404              507   \n",
       "4        2   6179511  2017  22615  5410    7198   3915             1777   \n",
       "\n",
       "  Delicassen  \n",
       "0       1338  \n",
       "1       1776  \n",
       "2       7844  \n",
       "3       1788  \n",
       "4       5185  "
      ]
     },
     "execution_count": 8,
     "metadata": {},
     "output_type": "execute_result"
    }
   ],
   "source": [
    "cust = pd.read_csv('wholesale_data.csv')\n",
    "cust.head()"
   ]
  },
  {
   "cell_type": "code",
   "execution_count": 13,
   "metadata": {},
   "outputs": [
    {
     "name": "stdout",
     "output_type": "stream",
     "text": [
      "Number of rows:  801\n",
      "Number of columns:  9\n",
      "Column names:  Index(['Channel', 'Customer', 'Year', 'Fresh', 'Milk', 'Grocery', 'Frozen',\n",
      "       'Detergents_Paper', 'Delicassen'],\n",
      "      dtype='object')\n",
      "Index method:  RangeIndex(start=0, stop=801, step=1)\n",
      "Data types for entire dataframe: \n",
      "<class 'pandas.core.frame.DataFrame'>\n",
      "RangeIndex: 801 entries, 0 to 800\n",
      "Data columns (total 9 columns):\n",
      "Channel             801 non-null int64\n",
      "Customer            801 non-null int64\n",
      "Year                801 non-null object\n",
      "Fresh               799 non-null object\n",
      "Milk                798 non-null object\n",
      "Grocery             798 non-null object\n",
      "Frozen              798 non-null object\n",
      "Detergents_Paper    799 non-null object\n",
      "Delicassen          797 non-null object\n",
      "dtypes: int64(2), object(7)\n",
      "memory usage: 56.4+ KB\n"
     ]
    }
   ],
   "source": [
    "# Row count\n",
    "print(\"Number of rows: \", str(cust.shape[0]))\n",
    "\n",
    "# Column count\n",
    "print(\"Number of columns: \", str(cust.shape[1]))\n",
    "\n",
    "# Column names\n",
    "print(\"Column names: \", str(cust.columns))\n",
    "\n",
    "# Indexing method\n",
    "print(\"Index method: \", cust.index)\n",
    "\n",
    "# Data types of all columns\n",
    "print(\"Data types for entire dataframe: \")\n",
    "cust.info()"
   ]
  },
  {
   "cell_type": "markdown",
   "metadata": {},
   "source": [
    "### Data Cleaning"
   ]
  },
  {
   "cell_type": "markdown",
   "metadata": {},
   "source": [
    "Based on the initial glimpse from above, it looks like the following datatypes need to be modified:\n",
    "- Channel and Customer should not be treated as ints\n",
    "- Year should be converted to date formate\n",
    "- All other columns should be ints\n",
    "\n",
    "Additionally, even though there are 801 rows, there are not 801 non-null values for all columns. We'll throw out those rows and see how many rows we lose in total, as well as check for duplcates.\n",
    "\n"
   ]
  },
  {
   "cell_type": "code",
   "execution_count": null,
   "metadata": {},
   "outputs": [],
   "source": []
  },
  {
   "cell_type": "code",
   "execution_count": 1,
   "metadata": {},
   "outputs": [],
   "source": [
    "# Check for duplicates\n",
    "# Check for NaNs\n",
    "# Check for data types\n",
    "# Check for unique values"
   ]
  },
  {
   "cell_type": "markdown",
   "metadata": {},
   "source": [
    "# Exploratory Data Analysis"
   ]
  },
  {
   "cell_type": "code",
   "execution_count": 3,
   "metadata": {},
   "outputs": [],
   "source": [
    "# Plots to look for outliers"
   ]
  },
  {
   "cell_type": "code",
   "execution_count": null,
   "metadata": {},
   "outputs": [],
   "source": [
    "# box plots\n",
    "import numpy as np\n",
    "import pandas as pd\n",
    "import seaborn as sns\n",
    "import matplotlib.pyplot as plt\n",
    "from scipy import stats\n",
    "\n",
    "sns.set(color_codes=True)\n",
    "\n",
    "sns.boxplot(x=\"total_price_bins\", y=\"total_price\", hue=\"sold_true\", data=books[(books.price < 40)], palette=\"Set3\")"
   ]
  },
  {
   "cell_type": "code",
   "execution_count": null,
   "metadata": {},
   "outputs": [],
   "source": [
    "# Paired grid/paired plots"
   ]
  },
  {
   "cell_type": "code",
   "execution_count": 4,
   "metadata": {},
   "outputs": [],
   "source": [
    "# Scatterplots"
   ]
  },
  {
   "cell_type": "code",
   "execution_count": 5,
   "metadata": {},
   "outputs": [],
   "source": [
    "# Histograms\n",
    "import numpy as np\n",
    "import pandas as pd\n",
    "import seaborn as sns\n",
    "import matplotlib.pyplot as plt\n",
    "from scipy import stats\n",
    "\n",
    "sns.set(color_codes=True)\n",
    "\n",
    "sns.distplot(x, bins=20, kde=False, rug=True);\n",
    "# Tweak using Matplotlib\n",
    "plt.ylim(0, None)\n",
    "plt.xlim(0, 60)"
   ]
  },
  {
   "cell_type": "code",
   "execution_count": 6,
   "metadata": {},
   "outputs": [],
   "source": [
    "# Barplot"
   ]
  },
  {
   "cell_type": "code",
   "execution_count": 7,
   "metadata": {},
   "outputs": [],
   "source": [
    "# Heatmap"
   ]
  },
  {
   "cell_type": "code",
   "execution_count": 8,
   "metadata": {},
   "outputs": [],
   "source": [
    "# Colinearity"
   ]
  },
  {
   "cell_type": "markdown",
   "metadata": {},
   "source": [
    "# Basic Feature Engineeering"
   ]
  },
  {
   "cell_type": "markdown",
   "metadata": {},
   "source": [
    "# Basic Modelling"
   ]
  },
  {
   "cell_type": "code",
   "execution_count": null,
   "metadata": {},
   "outputs": [],
   "source": [
    "# scipy t-test"
   ]
  },
  {
   "cell_type": "code",
   "execution_count": null,
   "metadata": {},
   "outputs": [],
   "source": [
    "# statsmodel for regression"
   ]
  },
  {
   "cell_type": "code",
   "execution_count": null,
   "metadata": {},
   "outputs": [],
   "source": [
    "# Unsupervised learning Kmeans\n",
    "from sklearn import cluster, datasets\n",
    "iris = datasets.load_iris()\n",
    "X_iris = iris.data\n",
    "\n",
    "k_means = cluster.KMeans(n_clusters=3)\n",
    "k_means.fit(X_iris) \n",
    "print(k_means.labels_[::10])"
   ]
  },
  {
   "cell_type": "code",
   "execution_count": null,
   "metadata": {},
   "outputs": [],
   "source": []
  },
  {
   "cell_type": "markdown",
   "metadata": {},
   "source": [
    "# Validation"
   ]
  },
  {
   "cell_type": "code",
   "execution_count": null,
   "metadata": {},
   "outputs": [],
   "source": [
    "from sklearn.metrics import classification_report\n",
    "y_true = [0, 1, 2, 2, 2]\n",
    "y_pred = [0, 0, 2, 2, 1]\n",
    "target_names = ['class 0', 'class 1', 'class 2']\n",
    "print(classification_report(y_true, y_pred, target_names=target_names))"
   ]
  },
  {
   "cell_type": "markdown",
   "metadata": {},
   "source": [
    "# Results and Recommendations"
   ]
  },
  {
   "cell_type": "code",
   "execution_count": null,
   "metadata": {},
   "outputs": [],
   "source": []
  }
 ],
 "metadata": {
  "kernelspec": {
   "display_name": "Python 3",
   "language": "python",
   "name": "python3"
  },
  "language_info": {
   "codemirror_mode": {
    "name": "ipython",
    "version": 3
   },
   "file_extension": ".py",
   "mimetype": "text/x-python",
   "name": "python",
   "nbconvert_exporter": "python",
   "pygments_lexer": "ipython3",
   "version": "3.7.3"
  }
 },
 "nbformat": 4,
 "nbformat_minor": 2
}
