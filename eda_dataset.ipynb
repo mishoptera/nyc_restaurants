{
 "cells": [
  {
   "cell_type": "markdown",
   "metadata": {},
   "source": [
    "# NYC Restaurants\n",
    "\n",
    "starting Tuesday 7/9 at high noon\n",
    "\n",
    "### Import the necessary libraries"
   ]
  },
  {
   "cell_type": "code",
   "execution_count": 2,
   "metadata": {},
   "outputs": [],
   "source": [
    "import pandas as pd"
   ]
  },
  {
   "cell_type": "markdown",
   "metadata": {},
   "source": [
    "### Get dataset into a single dataframe"
   ]
  },
  {
   "cell_type": "code",
   "execution_count": 17,
   "metadata": {},
   "outputs": [],
   "source": [
    "# import 6 dataset text files with headers\n",
    "data1 = pd.read_csv('DOHMH_New_York_City_Restaurant_Inspection_Results_1_of_6.txt', sep = ',', header = 0)\n",
    "data2 = pd.read_csv('DOHMH_New_York_City_Restaurant_Inspection_Results_2_of_6.txt', sep = ',', header = 0)\n",
    "data3 = pd.read_csv('DOHMH_New_York_City_Restaurant_Inspection_Results_3_of_6.txt', sep = ',', header = 0)\n",
    "data4 = pd.read_csv('DOHMH_New_York_City_Restaurant_Inspection_Results_4_of_6.txt', sep = ',', header = 0)\n",
    "data5 = pd.read_csv('DOHMH_New_York_City_Restaurant_Inspection_Results_5_of_6.txt', sep = ',', header = 0)\n",
    "data6 = pd.read_csv('DOHMH_New_York_City_Restaurant_Inspection_Results_6_of_6.txt', sep = ',', header = 0)\n",
    "\n",
    "# combine into one dataframe\n",
    "nyc = pd.concat([data1, data2, data3, data4, data5, data6], axis=0)\n",
    "\n"
   ]
  },
  {
   "cell_type": "code",
   "execution_count": 19,
   "metadata": {},
   "outputs": [
    {
     "data": {
      "text/plain": [
       "399918"
      ]
     },
     "execution_count": 19,
     "metadata": {},
     "output_type": "execute_result"
    }
   ],
   "source": [
    "nyc.shape[0]"
   ]
  },
  {
   "cell_type": "markdown",
   "metadata": {},
   "source": [
    "### Get a feel for what dataset looks like."
   ]
  },
  {
   "cell_type": "code",
   "execution_count": 20,
   "metadata": {},
   "outputs": [
    {
     "name": "stdout",
     "output_type": "stream",
     "text": [
      "Number of rows:  399918\n",
      "Number of columns:  19\n",
      "Column names:  Index(['Unnamed: 0', 'CAMIS', 'DBA', 'BORO', 'BUILDING', 'STREET', 'ZIPCODE',\n",
      "       'PHONE', 'CUISINE DESCRIPTION', 'INSPECTION DATE', 'ACTION',\n",
      "       'VIOLATION CODE', 'VIOLATION DESCRIPTION', 'CRITICAL FLAG', 'SCORE',\n",
      "       'GRADE', 'GRADE DATE', 'RECORD DATE', 'INSPECTION TYPE'],\n",
      "      dtype='object')\n",
      "Index method:  Int64Index([    0,     1,     2,     3,     4,     5,     6,     7,     8,\n",
      "                9,\n",
      "            ...\n",
      "            66643, 66644, 66645, 66646, 66647, 66648, 66649, 66650, 66651,\n",
      "            66652],\n",
      "           dtype='int64', length=399918)\n",
      "Data types for entire dataframe: \n",
      "<class 'pandas.core.frame.DataFrame'>\n",
      "Int64Index: 399918 entries, 0 to 66652\n",
      "Data columns (total 19 columns):\n",
      "Unnamed: 0               399918 non-null int64\n",
      "CAMIS                    399918 non-null int64\n",
      "DBA                      399559 non-null object\n",
      "BORO                     399918 non-null object\n",
      "BUILDING                 399809 non-null object\n",
      "STREET                   399909 non-null object\n",
      "ZIPCODE                  399909 non-null float64\n",
      "PHONE                    399913 non-null object\n",
      "CUISINE DESCRIPTION      399918 non-null object\n",
      "INSPECTION DATE          399918 non-null object\n",
      "ACTION                   398783 non-null object\n",
      "VIOLATION CODE           393414 non-null object\n",
      "VIOLATION DESCRIPTION    392939 non-null object\n",
      "CRITICAL FLAG            399918 non-null object\n",
      "SCORE                    376704 non-null float64\n",
      "GRADE                    195413 non-null object\n",
      "GRADE DATE               192820 non-null object\n",
      "RECORD DATE              399918 non-null object\n",
      "INSPECTION TYPE          398783 non-null object\n",
      "dtypes: float64(2), int64(2), object(15)\n",
      "memory usage: 61.0+ MB\n"
     ]
    }
   ],
   "source": [
    "# See first 10 entries\n",
    "nyc.head()\n",
    "\n",
    "# Basic summary\n",
    "print(\"Number of rows: \", str(nyc.shape[0]))\n",
    "print(\"Number of columns: \", str(nyc.shape[1]))\n",
    "print(\"Column names: \", str(nyc.columns))\n",
    "print(\"Index method: \", str(nyc.index))\n",
    "print(\"Data types for entire dataframe: \")\n",
    "nyc.info()\n"
   ]
  },
  {
   "cell_type": "markdown",
   "metadata": {},
   "source": [
    "### Get descriptive stats on one column in particular"
   ]
  },
  {
   "cell_type": "code",
   "execution_count": 22,
   "metadata": {},
   "outputs": [
    {
     "data": {
      "text/plain": [
       "count    376704.000000\n",
       "mean         18.910181\n",
       "std          12.958955\n",
       "min          -2.000000\n",
       "25%          11.000000\n",
       "50%          15.000000\n",
       "75%          24.000000\n",
       "max         151.000000\n",
       "Name: SCORE, dtype: float64"
      ]
     },
     "execution_count": 22,
     "metadata": {},
     "output_type": "execute_result"
    }
   ],
   "source": [
    "# column of interest is 'quantity' in the chipo dataset\n",
    "nyc.SCORE.describe()"
   ]
  },
  {
   "cell_type": "code",
   "execution_count": 67,
   "metadata": {},
   "outputs": [
    {
     "name": "stdout",
     "output_type": "stream",
     "text": [
      "The most frequently order item was: \n",
      "                     order_id  quantity  item_price2\n",
      "item_name                                           \n",
      "Chicken Bowl           713926       761      7342.73\n",
      "Chicken Burrito        497303       591      5575.82\n",
      "Chips and Guacamole    449959       506      2201.04\n",
      "Steak Burrito          328437       386      3851.43\n",
      "Canned Soft Drink      304753       351       438.75\n",
      "Chips                  208004       230       494.34\n",
      "\n",
      "The most frequently ordered subchoice was: \n",
      "                                                    order_id  quantity  \\\n",
      "choice_description                                                       \n",
      "[Diet Coke]                                           123455       159   \n",
      "[Coke]                                                122752       143   \n",
      "[Sprite]                                               80426        89   \n",
      "[Fresh Tomato Salsa, [Rice, Black Beans, Cheese...     43088        49   \n",
      "[Fresh Tomato Salsa, [Rice, Black Beans, Cheese...     36041        42   \n",
      "[Fresh Tomato Salsa, [Rice, Black Beans, Cheese...     37550        40   \n",
      "\n",
      "                                                    item_price2  \n",
      "choice_description                                               \n",
      "[Diet Coke]                                              326.71  \n",
      "[Coke]                                                   288.79  \n",
      "[Sprite]                                                 133.93  \n",
      "[Fresh Tomato Salsa, [Rice, Black Beans, Cheese...       432.25  \n",
      "[Fresh Tomato Salsa, [Rice, Black Beans, Cheese...       372.64  \n",
      "[Fresh Tomato Salsa, [Rice, Black Beans, Cheese...       455.50  \n",
      "\n",
      "The sum of the quanitity column is:  4972\n"
     ]
    }
   ],
   "source": [
    "# The most frequently ordered item in general\n",
    "c = chipo.groupby('item_name')\n",
    "c = c.sum()\n",
    "c = c.sort_values(['quantity'], ascending=False)\n",
    "print(\"The most frequently order item was: \")\n",
    "print (c.head(6))\n",
    "\n",
    "# The most frequently ordered subchoice:\n",
    "c = chipo.groupby('choice_description').sum()\n",
    "c = c.sort_values(['quantity'], ascending=False)\n",
    "print(\"\\nThe most frequently ordered subchoice was: \")\n",
    "print (c.head(6))\n",
    "\n",
    "# Can summarize one column this way\n",
    "total_items_orders = chipo.quantity.sum()\n",
    "print(\"\\nThe sum of the quanitity column is: \", str(total_items_orders))"
   ]
  },
  {
   "cell_type": "markdown",
   "metadata": {},
   "source": [
    "### Lambda functions"
   ]
  },
  {
   "cell_type": "code",
   "execution_count": 43,
   "metadata": {},
   "outputs": [
    {
     "name": "stdout",
     "output_type": "stream",
     "text": [
      "Item price before being dollarized: \n",
      " 0    $2.39 \n",
      "1    $3.39 \n",
      "2    $3.39 \n",
      "3    $2.39 \n",
      "Name: item_price, dtype: object\n",
      "\n",
      " Item price after being dollarized: \n",
      " 0    2.39\n",
      "1    3.39\n",
      "2    3.39\n",
      "3    2.39\n",
      "Name: item_price2, dtype: float64\n"
     ]
    }
   ],
   "source": [
    "# Tiny function that gets rid of '$' and turns str into a float\n",
    "dollarizer = lambda x: float(x[1:-1])\n",
    "\n",
    "print (\"Item price before being dollarized: \\n\", str(chipo.item_price[:4]))\n",
    "chipo = chipo.assign(item_price2 = chipo.item_price.apply(dollarizer))\n",
    "print (\"\\n Item price after being dollarized: \\n\", str(chipo.item_price2[:4]))"
   ]
  },
  {
   "cell_type": "markdown",
   "metadata": {},
   "source": [
    "### Unique values in a column"
   ]
  },
  {
   "cell_type": "code",
   "execution_count": 53,
   "metadata": {},
   "outputs": [
    {
     "name": "stdout",
     "output_type": "stream",
     "text": [
      "Number of teams:  16\n"
     ]
    }
   ],
   "source": [
    "# How many different teams are there?\n",
    "euro_teams['Team'].nunique()\n",
    "\n",
    "# same thing\n",
    "print(\"Number of teams: \", str(euro_teams.Team.nunique()))"
   ]
  },
  {
   "cell_type": "markdown",
   "metadata": {},
   "source": [
    "### View only certain columns and rows"
   ]
  },
  {
   "cell_type": "code",
   "execution_count": 97,
   "metadata": {},
   "outputs": [
    {
     "name": "stdout",
     "output_type": "stream",
     "text": [
      "Selected columns only: \n",
      "                   Team  Yellow Cards  Red Cards  Goals\n",
      "0               Croatia             9          0      4\n",
      "1        Czech Republic             7          0      4\n",
      "2               Denmark             4          0      4\n",
      "3               England             5          0      5\n",
      "4                France             6          0      3\n",
      "5               Germany             4          0     10\n",
      "6                Greece             9          1      5\n",
      "7                 Italy            16          0      6\n",
      "8           Netherlands             5          0      2\n",
      "9                Poland             7          1      2\n",
      "10             Portugal            12          0      6\n",
      "11  Republic of Ireland             6          1      1\n",
      "12               Russia             6          0      5\n",
      "13                Spain            11          0     12\n",
      "14               Sweden             7          0      5\n",
      "15              Ukraine             5          0      2\n",
      "\n",
      "Subset of rows: \n",
      "      Team  Yellow Cards  Red Cards  Goals\n",
      "3  England             5          0      5\n",
      "4   France             6          0      3\n",
      "5  Germany             4          0     10\n",
      "6   Greece             9          1      5\n"
     ]
    }
   ],
   "source": [
    "# filter only giving the column names\n",
    "discipline = euro_teams[['Team', 'Yellow Cards', 'Red Cards', 'Goals']]\n",
    "print(\"Selected columns only: \")\n",
    "print(discipline)\n",
    "\n",
    "# filter to certain rows\n",
    "discipline_shortlist = discipline[3:7]\n",
    "print(\"\\nSubset of rows: \")\n",
    "print(discipline_shortlist)\n"
   ]
  },
  {
   "cell_type": "markdown",
   "metadata": {},
   "source": [
    "### Sort and filter tricks"
   ]
  },
  {
   "cell_type": "code",
   "execution_count": 100,
   "metadata": {},
   "outputs": [
    {
     "name": "stdout",
     "output_type": "stream",
     "text": [
      "The rounded mean # of yellow cards is:  7\n",
      "\n",
      "The red card - yellow card - goals sorted set is:\n",
      "                   Team  Yellow Cards  Red Cards  Goals\n",
      "6                Greece             9          1      5\n",
      "9                Poland             7          1      2\n",
      "11  Republic of Ireland             6          1      1\n",
      "7                 Italy            16          0      6\n",
      "10             Portugal            12          0      6\n",
      "13                Spain            11          0     12\n",
      "0               Croatia             9          0      4\n",
      "14               Sweden             7          0      5\n",
      "1        Czech Republic             7          0      4\n",
      "12               Russia             6          0      5\n",
      "4                France             6          0      3\n",
      "3               England             5          0      5\n",
      "8           Netherlands             5          0      2\n",
      "15              Ukraine             5          0      2\n",
      "5               Germany             4          0     10\n",
      "2               Denmark             4          0      4\n",
      "\n",
      "A subset of only the teams with a minimum 7 goals: \n",
      "       Team  Yellow Cards  Red Cards  Goals\n",
      "5   Germany             4          0     10\n",
      "13    Spain            11          0     12\n",
      "\n",
      "Only those teams that begin with the letter C\n",
      "             Team  Yellow Cards  Red Cards  Goals\n",
      "0         Croatia             9          0      4\n",
      "1  Czech Republic             7          0      4\n"
     ]
    }
   ],
   "source": [
    "# discipline is a shorter version of euro_teams\n",
    "\n",
    "# Round and take the mean\n",
    "print(\"The rounded mean # of yellow cards is: \", str(round(discipline['Yellow Cards'].mean())))\n",
    "\n",
    "# Sort based on multiple values (first red cards and then by yellow cards)\n",
    "print('\\nThe red card - yellow card - goals sorted set is:')\n",
    "print(discipline.sort_values(['Red Cards', 'Yellow Cards', 'Goals'], ascending = False))\n",
    "\n",
    "# Filter based on number of goals scored\n",
    "print('\\nA subset of only the teams with a minimum 7 goals: ')\n",
    "print(discipline[discipline.Goals > 6])\n",
    "\n",
    "# Filter based on team name strings\n",
    "print('\\nOnly those teams that begin with the letter C')\n",
    "print(discipline[discipline.Team.str.startswith('C')])\n",
    "                    "
   ]
  },
  {
   "cell_type": "markdown",
   "metadata": {},
   "source": [
    "### Accessing subsets of the data based on location with iloc and loc functions"
   ]
  },
  {
   "cell_type": "code",
   "execution_count": 125,
   "metadata": {},
   "outputs": [
    {
     "name": "stdout",
     "output_type": "stream",
     "text": [
      "All teams/rows, but only 3 columns in the middle:\n",
      "   Shooting Accuracy % Goals-to-shots  Total shots (inc. Blocked)\n",
      "0              51.9%            16.0%                          32\n",
      "1              41.9%            12.9%                          39\n",
      "2              50.0%            20.0%                          27\n",
      "3              50.0%            17.2%                          40\n",
      "4              37.9%             6.5%                          65\n",
      "5              47.8%            15.6%                          80\n",
      "6              30.7%            19.2%                          32\n",
      "7              43.0%             7.5%                         110\n",
      "8              25.0%             4.1%                          60\n",
      "9              39.4%             5.2%                          48\n",
      "10             34.3%             9.3%                          82\n",
      "11             36.8%             5.2%                          28\n",
      "12             22.5%            12.5%                          59\n",
      "13             55.9%            16.0%                         100\n",
      "14             47.2%            13.8%                          39\n",
      "15             21.2%             6.0%                          38\n",
      "\n",
      "Only the last 8 teams, and only the last 3 columns:\n",
      "   Subs on  Subs off  Players Used\n",
      "0        9         9            16\n",
      "1       11        11            19\n",
      "2        7         7            15\n",
      "3       11        11            16\n",
      "4       11        11            19\n",
      "5       15        15            17\n",
      "6       12        12            20\n",
      "7       18        18            19\n",
      "\n",
      "Only certain teams and certain columns specified by name:\n",
      "       Team Shooting Accuracy\n",
      "3   England             50.0%\n",
      "7     Italy             43.0%\n",
      "12   Russia             22.5%\n",
      "\n",
      "Mixing it up: \n"
     ]
    },
    {
     "data": {
      "text/html": [
       "<div>\n",
       "<style scoped>\n",
       "    .dataframe tbody tr th:only-of-type {\n",
       "        vertical-align: middle;\n",
       "    }\n",
       "\n",
       "    .dataframe tbody tr th {\n",
       "        vertical-align: top;\n",
       "    }\n",
       "\n",
       "    .dataframe thead th {\n",
       "        text-align: right;\n",
       "    }\n",
       "</style>\n",
       "<table border=\"1\" class=\"dataframe\">\n",
       "  <thead>\n",
       "    <tr style=\"text-align: right;\">\n",
       "      <th></th>\n",
       "      <th>% Goals-to-shots</th>\n",
       "    </tr>\n",
       "  </thead>\n",
       "  <tbody>\n",
       "    <tr>\n",
       "      <th>0</th>\n",
       "      <td>16.0%</td>\n",
       "    </tr>\n",
       "  </tbody>\n",
       "</table>\n",
       "</div>"
      ],
      "text/plain": [
       "  % Goals-to-shots\n",
       "0            16.0%"
      ]
     },
     "execution_count": 125,
     "metadata": {},
     "output_type": "execute_result"
    }
   ],
   "source": [
    "# use .iloc to slices via the position of the passed integers\n",
    "# : means all, 0:7 means from 0 to 7\n",
    "print(\"All teams/rows, but only 3 columns in the middle:\")\n",
    "print(euro_teams.iloc[: , 4:7])\n",
    "\n",
    "# use negative to exclude the last 3 columns\n",
    "print(\"\\nOnly the last 8 teams, and only the last 3 columns:\")\n",
    "print(euro_teams.iloc[:-8, -3:])\n",
    "\n",
    "# .loc is another way to slice, using the labels of the columns and indexes\n",
    "print(\"\\nOnly certain teams and certain columns specified by name:\")\n",
    "print(euro_teams.loc[euro_teams.Team.isin(['England', 'Italy', 'Russia']), ['Team','Shooting Accuracy']])\n",
    "\n",
    "# Get location of a certain cell when having a mix of names and indexed locations\n",
    "print(\"\\nMixing it up: \")\n",
    "col_name = euro_teams.columns[5]\n",
    "euro_teams.loc[euro_teams.Team.isin(['Croatia']), [col_name]]"
   ]
  },
  {
   "cell_type": "markdown",
   "metadata": {},
   "source": [
    "### A chain of tidying to group, get means, and then sort"
   ]
  },
  {
   "cell_type": "code",
   "execution_count": 130,
   "metadata": {},
   "outputs": [
    {
     "name": "stdout",
     "output_type": "stream",
     "text": [
      "Here are average number of wine servings by continent: \n",
      "continent\n",
      "EU    193.777778\n",
      "SA    175.083333\n",
      "OC     89.687500\n",
      "AF     61.471698\n",
      "AS     37.045455\n",
      "Name: beer_servings, dtype: float64\n",
      "\n",
      "Here are the stats on wine servings by continent\n",
      "           count        mean        std  min   25%    50%     75%    max\n",
      "continent                                                               \n",
      "AF          53.0   16.264151  38.846419  0.0   1.0    2.0   13.00  233.0\n",
      "AS          44.0    9.068182  21.667034  0.0   0.0    1.0    8.00  123.0\n",
      "EU          45.0  142.222222  97.421738  0.0  59.0  128.0  195.00  370.0\n",
      "OC          16.0   35.625000  64.555790  0.0   1.0    8.5   23.25  212.0\n",
      "SA          12.0   62.416667  88.620189  1.0   3.0   12.0   98.50  221.0\n",
      "\n",
      "Here are a bunch of stats aggregated bout spirit servings: \n",
      "                 mean  median  min  max\n",
      "continent                              \n",
      "AF          16.339623     3.0    0  152\n",
      "AS          60.840909    16.0    0  326\n",
      "EU         132.555556   122.0    0  373\n",
      "OC          58.437500    37.0    0  254\n",
      "SA         114.750000   108.5   25  302\n"
     ]
    }
   ],
   "source": [
    "url = 'https://raw.githubusercontent.com/justmarkham/DAT8/master/data/drinks.csv'\n",
    "drinks = pd.read_csv(url, sep = ',')\n",
    "\n",
    "# A chain to sort values based on beer serving averages by continent\n",
    "print('Here are average number of wine servings by continent: ')\n",
    "print(drinks.groupby('continent').beer_servings.mean().sort_values(ascending=False))\n",
    "\n",
    "# A chain to get wine stats by continent\n",
    "print('\\nHere are the stats on wine servings by continent')\n",
    "print(drinks.groupby('continent').wine_servings.describe())\n",
    "\n",
    "# A chain to get multiple stats on a given column in one dataframe\n",
    "print('\\nHere are a bunch of stats aggregated bout spirit servings: ')\n",
    "print(drinks.groupby('continent').spirit_servings.agg(['mean', 'median', 'min', 'max']))"
   ]
  },
  {
   "cell_type": "markdown",
   "metadata": {},
   "source": [
    "### Eliminate hierachical indexing with 'unstack'"
   ]
  },
  {
   "cell_type": "code",
   "execution_count": 136,
   "metadata": {},
   "outputs": [
    {
     "name": "stdout",
     "output_type": "stream",
     "text": [
      "Normal way: \n",
      "regiment    company\n",
      "Dragoons    1st         3.5\n",
      "            2nd        27.5\n",
      "Nighthawks  1st        14.0\n",
      "            2nd        16.5\n",
      "Scouts      1st         2.5\n",
      "            2nd         2.5\n",
      "Name: preTestScore, dtype: float64\n",
      "\n",
      "Unstacked: \n",
      "company      1st   2nd\n",
      "regiment              \n",
      "Dragoons     3.5  27.5\n",
      "Nighthawks  14.0  16.5\n",
      "Scouts       2.5   2.5\n",
      "\n",
      " number of observations per regiment/company: \n",
      "regiment    company\n",
      "Dragoons    1st        2\n",
      "            2nd        2\n",
      "Nighthawks  1st        2\n",
      "            2nd        2\n",
      "Scouts      1st        2\n",
      "            2nd        2\n",
      "dtype: int64\n"
     ]
    }
   ],
   "source": [
    "# Data\n",
    "raw_data = {'regiment': ['Nighthawks', 'Nighthawks', 'Nighthawks', 'Nighthawks', 'Dragoons', 'Dragoons', 'Dragoons', 'Dragoons', 'Scouts', 'Scouts', 'Scouts', 'Scouts'], \n",
    "        'company': ['1st', '1st', '2nd', '2nd', '1st', '1st', '2nd', '2nd','1st', '1st', '2nd', '2nd'], \n",
    "        'name': ['Miller', 'Jacobson', 'Ali', 'Milner', 'Cooze', 'Jacon', 'Ryaner', 'Sone', 'Sloan', 'Piger', 'Riani', 'Ali'], \n",
    "        'preTestScore': [4, 24, 31, 2, 3, 4, 24, 31, 2, 3, 2, 3],\n",
    "        'postTestScore': [25, 94, 57, 62, 70, 25, 94, 57, 62, 70, 62, 70]}\n",
    "regiment = pd.DataFrame(raw_data, columns = raw_data.keys())\n",
    "\n",
    "# Normal indexing\n",
    "print('Normal way: ')\n",
    "print(regiment.groupby(['regiment', 'company']).preTestScore.mean())\n",
    "\n",
    "# Print getting rid of that\n",
    "print('\\nUnstacked: ')\n",
    "print(regiment.groupby(['regiment', 'company']).preTestScore.mean().unstack())\n",
    "\n",
    "# Number of observations overall\n",
    "print('\\n number of observations per regiment/company: ')\n",
    "print(regiment.groupby(['regiment', 'company']).size())"
   ]
  },
  {
   "cell_type": "markdown",
   "metadata": {},
   "source": [
    "### Random tricks that should probably be organized elsewhere"
   ]
  },
  {
   "cell_type": "code",
   "execution_count": 1,
   "metadata": {},
   "outputs": [
    {
     "name": "stdout",
     "output_type": "stream",
     "text": [
      "This is typically int rounding down:  4\n",
      "This is how you get in to round up:  5\n"
     ]
    }
   ],
   "source": [
    "# When wanting to round up an int here's a nice trick I discovered that takes advantage of\n",
    "# the fact the True = 1, and False = 0\n",
    "\n",
    "round_typical = int(21 / 5)\n",
    "print(\"This is typically int rounding down: \", str(round_typical))\n",
    "\n",
    "round_up = int(21 / 5) + (21 % 5 > 0)\n",
    "print(\"This is how you get in to round up: \", str(round_up))\n"
   ]
  },
  {
   "cell_type": "code",
   "execution_count": null,
   "metadata": {},
   "outputs": [],
   "source": []
  }
 ],
 "metadata": {
  "kernelspec": {
   "display_name": "Python 3",
   "language": "python",
   "name": "python3"
  },
  "language_info": {
   "codemirror_mode": {
    "name": "ipython",
    "version": 3
   },
   "file_extension": ".py",
   "mimetype": "text/x-python",
   "name": "python",
   "nbconvert_exporter": "python",
   "pygments_lexer": "ipython3",
   "version": "3.7.3"
  }
 },
 "nbformat": 4,
 "nbformat_minor": 2
}
